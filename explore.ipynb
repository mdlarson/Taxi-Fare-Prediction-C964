{
 "cells": [
  {
   "cell_type": "code",
   "execution_count": null,
   "id": "d1c4eb67-7aae-40b6-a58d-e58195843c2f",
   "metadata": {
    "scrolled": true
   },
   "outputs": [],
   "source": [
    "'''Initial data processing and summarization.'''\n",
    "import joblib\n",
    "import matplotlib.pyplot as plt\n",
    "import pandas as pd\n",
    "import seaborn as sns\n",
    "from sklearn.ensemble import RandomForestRegressor\n",
    "from sklearn.metrics import mean_absolute_error, mean_squared_error, r2_score\n",
    "from sklearn.model_selection import train_test_split\n",
    "\n",
    "# Load and Filter Data\n",
    "# We're only interested in trips to LaGuardia Airport,\n",
    "# so we'll create a new dataset for just those rows.\n",
    "# This reduces the dataset from ~450MB/19M rows to only ~10MB/420k rows.\n",
    "# ---\n",
    "# Trip data source: https://www.nyc.gov/site/tlc/about/tlc-trip-record-data.page\n",
    "# Title: \"April 2024 High Volume For-Hire Vehicle Trip Records\"\n",
    "# Dataset URL: https://d37ci6vzurychx.cloudfront.net/trip-data/fhvhv_tripdata_2024-04.parquet\n",
    "# ---\n",
    "\n",
    "# File paths\n",
    "input_file = 'fhvhv_tripdata_2024-04.parquet'\n",
    "output_file = 'filtered.parquet'\n",
    "borough_file = 'taxi_boroughs.csv' # output of parse_taxi_zones.py\n",
    "\n",
    "# Read the Parquet file\n",
    "raw = pd.read_parquet(input_file)\n",
    "\n",
    "# Select features relevant for trip cost. The sales_tax, airport_fee, and bcf (Black Car Fund)\n",
    "# add to total cost, but are constant for each ride.\n",
    "# They are excluded based on little independent, additive information.\n",
    "columns_to_keep = [\n",
    "    'pickup_datetime', 'dropoff_datetime', 'PULocationID', 'DOLocationID',\n",
    "    'trip_miles', 'trip_time', 'base_passenger_fare', 'tolls', 'congestion_surcharge'\n",
    "]\n",
    "filtered_data = raw.loc[raw['DOLocationID'] == 138, columns_to_keep]\n",
    "\n",
    "# Calculate total for variable costs\n",
    "filtered_data['total_cost'] = (\n",
    "    filtered_data['base_passenger_fare'] +\n",
    "    filtered_data['tolls'] +\n",
    "    filtered_data['congestion_surcharge']\n",
    ")\n",
    "\n",
    "# Read borough data\n",
    "boroughs = pd.read_csv(borough_file)\n",
    "# Merge boroughs into dataset on matching Taxi Zone number\n",
    "filtered_data = filtered_data.merge(boroughs[['OBJECTID', 'borough']], left_on='PULocationID', right_on='OBJECTID').drop(columns=['OBJECTID'])\n",
    "\n",
    "# Save to new working dataset\n",
    "filtered_data.to_parquet(output_file, index=False)"
   ]
  },
  {
   "cell_type": "code",
   "execution_count": null,
   "id": "35717a89-4323-4db4-8fc4-84f3c0bac141",
   "metadata": {},
   "outputs": [],
   "source": [
    "# Read and summarize our working dataset\n",
    "data = pd.read_parquet(output_file)\n",
    "print(data.head())\n",
    "print(data.info())\n",
    "print(data.describe())"
   ]
  },
  {
   "cell_type": "code",
   "execution_count": null,
   "id": "43a85749-912f-4231-938d-036094c98c7f",
   "metadata": {},
   "outputs": [],
   "source": [
    "# Clean Data\n",
    "# No changes in row count after these operations.\n",
    "# Including for posterity / record of work.\n",
    "# data.dropna(inplace=True)\n",
    "# data.drop_duplicates(inplace=True)\n",
    "\n",
    "# Transform Data\n",
    "# Bin datetimes by hour of day\n",
    "data['pickup_datetime'] = pd.to_datetime(data['pickup_datetime']).dt.hour\n",
    "data['dropoff_datetime'] = pd.to_datetime(data['dropoff_datetime']).dt.hour\n",
    "\n",
    "# Replace taxi zone numbers and borough names with T/F dummy variables\n",
    "data = pd.get_dummies(data, columns=['PULocationID','DOLocationID', 'borough'])\n",
    "\n",
    "# Sanity Check\n",
    "print(data.head())\n",
    "print(data.info())"
   ]
  },
  {
   "cell_type": "code",
   "execution_count": null,
   "id": "4b958595-2d66-43da-9b47-3523c8ef3053",
   "metadata": {},
   "outputs": [],
   "source": [
    "# TODO Visualize Data\n",
    "# Distribution of base fares\n",
    "# Notable: very, very long tail\n",
    "plt.figure(figsize=(10,6))\n",
    "sns.histplot(data['total_cost'], bins=50, kde=True)\n",
    "plt.title('Distribution of Fares')\n",
    "plt.xlabel('Total Cost')\n",
    "plt.ylabel('Count')\n",
    "plt.show()\n",
    "# Seeing a very very long tail!\n",
    "\n",
    "# Average fare by pickup hour\n",
    "# Notable: greater variance at night\n",
    "plt.figure(figsize=(10,6))\n",
    "sns.barplot(x='pickup_datetime', y='total_cost', data=data)\n",
    "plt.title('Average Fare by Pickup Hour')\n",
    "plt.xlabel('Pickup Hour')\n",
    "plt.ylabel('Total Cost')\n",
    "plt.xticks(rotation=90)\n",
    "plt.show()"
   ]
  },
  {
   "cell_type": "code",
   "execution_count": null,
   "id": "cfc39196-299f-43f1-a949-ac839d2d5326",
   "metadata": {},
   "outputs": [],
   "source": [
    "# Average fare by borough\n",
    "# Staten Island more tightly clustered, likely due to more uniform distances\n",
    "sns.catplot(x=\"total_cost\", y=\"borough\", order=['Bronx','Brooklyn','Manhattan','Queens','Staten Island'], kind=\"boxen\", data=filtered_data)\n",
    "plt.title('Average Fare by Borough')\n",
    "plt.xlabel('Borough')\n",
    "plt.ylabel('Average Fare')\n",
    "plt.show()"
   ]
  },
  {
   "cell_type": "code",
   "execution_count": null,
   "id": "f8861b9c-ae97-4106-b50e-25cb3781db06",
   "metadata": {},
   "outputs": [],
   "source": [
    "# TODO: Train the models\n",
    "#rf = RandomForestRegressor(random_state=1)\n",
    "#rt.fit(X_train, y_train)\n",
    "\n",
    "# Save the model\n",
    "# joblib.dump(rf, 'model.pkl')"
   ]
  },
  {
   "cell_type": "code",
   "execution_count": null,
   "id": "f3975756-3553-4682-9ada-ad00299f45cc",
   "metadata": {},
   "outputs": [],
   "source": []
  }
 ],
 "metadata": {
  "kernelspec": {
   "display_name": "Python 3 (ipykernel)",
   "language": "python",
   "name": "python3"
  },
  "language_info": {
   "codemirror_mode": {
    "name": "ipython",
    "version": 3
   },
   "file_extension": ".py",
   "mimetype": "text/x-python",
   "name": "python",
   "nbconvert_exporter": "python",
   "pygments_lexer": "ipython3",
   "version": "3.12.2"
  }
 },
 "nbformat": 4,
 "nbformat_minor": 5
}
